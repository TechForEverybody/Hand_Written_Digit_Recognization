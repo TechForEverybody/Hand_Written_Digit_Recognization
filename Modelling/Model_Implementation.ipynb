{
 "cells": [
  {
   "cell_type": "markdown",
   "id": "0465beb5",
   "metadata": {},
   "source": [
    "<h1 style=\"text-align:center;font-size:30px;color:darkblue;\">Model Implementation (By self Model Implementation) 👇</h1>"
   ]
  },
  {
   "cell_type": "markdown",
   "id": "23e75737",
   "metadata": {},
   "source": [
    "## Imports"
   ]
  },
  {
   "cell_type": "code",
   "execution_count": 30,
   "id": "f938ec25",
   "metadata": {
    "ExecuteTime": {
     "end_time": "2023-04-14T00:38:33.716075Z",
     "start_time": "2023-04-14T00:38:33.702513Z"
    }
   },
   "outputs": [],
   "source": [
    "import numpy\n",
    "from matplotlib import pyplot\n",
    "import cv2\n",
    "import os\n",
    "import random\n",
    "import joblib\n",
    "from sklearn.svm import SVC\n",
    "from sklearn.metrics import confusion_matrix,classification_report\n",
    "import seaborn"
   ]
  },
  {
   "cell_type": "code",
   "execution_count": 2,
   "id": "945e7e40",
   "metadata": {
    "ExecuteTime": {
     "end_time": "2022-12-31T20:12:06.713791Z",
     "start_time": "2022-12-31T20:12:06.680745Z"
    }
   },
   "outputs": [
    {
     "name": "stdout",
     "output_type": "stream",
     "text": [
      "Number of GPUs Available:  0\n"
     ]
    }
   ],
   "source": [
    "print(\"Number of GPUs Available: \", len(tensorflow.config.list_physical_devices('GPU')))"
   ]
  },
  {
   "cell_type": "markdown",
   "id": "a507d326",
   "metadata": {},
   "source": [
    "## Configurations"
   ]
  },
  {
   "cell_type": "code",
   "execution_count": 3,
   "id": "52e7e0f5",
   "metadata": {
    "ExecuteTime": {
     "end_time": "2023-04-14T00:20:48.368148Z",
     "start_time": "2023-04-14T00:20:48.315347Z"
    }
   },
   "outputs": [],
   "source": [
    "# %matplotlib qt;\n",
    "%matplotlib inline\n",
    "pyplot.rcParams[\"figure.figsize\"] = (5, 3)"
   ]
  },
  {
   "cell_type": "code",
   "execution_count": 4,
   "id": "3e308c04",
   "metadata": {
    "ExecuteTime": {
     "end_time": "2023-04-14T00:20:48.750745Z",
     "start_time": "2023-04-14T00:20:48.738673Z"
    }
   },
   "outputs": [],
   "source": [
    "Training_Data_Path=\"../Data/Main_Data/Training_Data/\"\n",
    "Testing_Data_Path=\"../Data/Main_Data/Testing_Data/\""
   ]
  },
  {
   "cell_type": "code",
   "execution_count": 24,
   "id": "5b2fc25a",
   "metadata": {
    "ExecuteTime": {
     "end_time": "2023-04-14T00:36:52.939731Z",
     "start_time": "2023-04-14T00:36:52.927189Z"
    }
   },
   "outputs": [],
   "source": [
    "def getClassificationEvaluation(actuals:list,predictions:list,labels:list):\n",
    "    classification_data=confusion_matrix(\n",
    "    actuals,\n",
    "    predictions\n",
    "    )\n",
    "    seaborn.heatmap(classification_data,annot=True,xticklabels=labels, yticklabels=labels)\n",
    "    pyplot.show()\n",
    "    print(classification_report(actuals,predictions))"
   ]
  },
  {
   "cell_type": "code",
   "execution_count": 5,
   "id": "9320dfe7",
   "metadata": {
    "ExecuteTime": {
     "end_time": "2023-04-14T00:20:49.300675Z",
     "start_time": "2023-04-14T00:20:49.279718Z"
    }
   },
   "outputs": [],
   "source": [
    "class_list=os.listdir(Training_Data_Path)"
   ]
  },
  {
   "cell_type": "code",
   "execution_count": 6,
   "id": "80071e3a",
   "metadata": {
    "ExecuteTime": {
     "end_time": "2023-04-14T00:20:49.729909Z",
     "start_time": "2023-04-14T00:20:49.706579Z"
    }
   },
   "outputs": [
    {
     "data": {
      "text/plain": [
       "['digit_0',\n",
       " 'digit_1',\n",
       " 'digit_2',\n",
       " 'digit_3',\n",
       " 'digit_4',\n",
       " 'digit_5',\n",
       " 'digit_6',\n",
       " 'digit_7',\n",
       " 'digit_8',\n",
       " 'digit_9']"
      ]
     },
     "execution_count": 6,
     "metadata": {},
     "output_type": "execute_result"
    }
   ],
   "source": [
    "class_list"
   ]
  },
  {
   "cell_type": "code",
   "execution_count": 9,
   "id": "01ea5467",
   "metadata": {
    "ExecuteTime": {
     "end_time": "2023-04-14T00:31:56.967586Z",
     "start_time": "2023-04-14T00:31:56.949531Z"
    }
   },
   "outputs": [],
   "source": [
    "Object_Data_Path=\"../Data/Preprocessed_Data/\""
   ]
  },
  {
   "cell_type": "code",
   "execution_count": 18,
   "id": "a958ed8c",
   "metadata": {
    "ExecuteTime": {
     "end_time": "2023-04-14T00:32:41.636208Z",
     "start_time": "2023-04-14T00:32:41.602493Z"
    }
   },
   "outputs": [],
   "source": [
    "pickle_training_features=open(Object_Data_Path+\"pickle_training_features.pickle\",\"rb\")\n",
    "Training_Features=pickle.load(pickle_training_features)\n",
    "pickle_training_features.close()\n",
    "pickle_training_labels=open(Object_Data_Path+\"pickle_training_labels.pickle\",\"rb\")\n",
    "Training_Labels=pickle.load(pickle_training_labels)\n",
    "pickle_training_labels.close()"
   ]
  },
  {
   "cell_type": "code",
   "execution_count": 19,
   "id": "9c9701fa",
   "metadata": {
    "ExecuteTime": {
     "end_time": "2023-04-14T00:32:42.208152Z",
     "start_time": "2023-04-14T00:32:42.186490Z"
    }
   },
   "outputs": [],
   "source": [
    "pickle_testing_features=open(Object_Data_Path+\"pickle_testing_features.pickle\",\"rb\")\n",
    "Testing_Features=pickle.load(pickle_testing_features)\n",
    "pickle_testing_features.close()\n",
    "pickle_testing_labels=open(Object_Data_Path+\"pickle_testing_labels.pickle\",\"rb\")\n",
    "Testing_Labels=pickle.load(pickle_testing_labels)\n",
    "pickle_testing_labels.close()"
   ]
  },
  {
   "cell_type": "code",
   "execution_count": 12,
   "id": "642584c1",
   "metadata": {
    "ExecuteTime": {
     "end_time": "2023-04-14T00:31:59.778123Z",
     "start_time": "2023-04-14T00:31:59.763074Z"
    }
   },
   "outputs": [
    {
     "data": {
      "text/plain": [
       "(17000, 576)"
      ]
     },
     "execution_count": 12,
     "metadata": {},
     "output_type": "execute_result"
    }
   ],
   "source": [
    "Training_Features.shape"
   ]
  },
  {
   "cell_type": "code",
   "execution_count": 15,
   "id": "b925b55b",
   "metadata": {
    "ExecuteTime": {
     "end_time": "2023-04-14T00:32:14.794902Z",
     "start_time": "2023-04-14T00:32:14.775894Z"
    }
   },
   "outputs": [
    {
     "data": {
      "text/plain": [
       "(3000, 576)"
      ]
     },
     "execution_count": 15,
     "metadata": {},
     "output_type": "execute_result"
    }
   ],
   "source": [
    "Testing_Features.shape"
   ]
  },
  {
   "cell_type": "markdown",
   "id": "ab2f7889",
   "metadata": {},
   "source": [
    "# Model Definition"
   ]
  },
  {
   "cell_type": "code",
   "execution_count": 16,
   "id": "4a7a05ff",
   "metadata": {
    "ExecuteTime": {
     "end_time": "2023-04-14T00:32:31.014329Z",
     "start_time": "2023-04-14T00:32:30.993060Z"
    }
   },
   "outputs": [],
   "source": [
    "SVM_Model=SVC()"
   ]
  },
  {
   "cell_type": "code",
   "execution_count": 20,
   "id": "fd399766",
   "metadata": {
    "ExecuteTime": {
     "end_time": "2023-04-14T00:33:27.308211Z",
     "start_time": "2023-04-14T00:32:44.905550Z"
    }
   },
   "outputs": [
    {
     "data": {
      "text/html": [
       "<style>#sk-container-id-1 {color: black;background-color: white;}#sk-container-id-1 pre{padding: 0;}#sk-container-id-1 div.sk-toggleable {background-color: white;}#sk-container-id-1 label.sk-toggleable__label {cursor: pointer;display: block;width: 100%;margin-bottom: 0;padding: 0.3em;box-sizing: border-box;text-align: center;}#sk-container-id-1 label.sk-toggleable__label-arrow:before {content: \"▸\";float: left;margin-right: 0.25em;color: #696969;}#sk-container-id-1 label.sk-toggleable__label-arrow:hover:before {color: black;}#sk-container-id-1 div.sk-estimator:hover label.sk-toggleable__label-arrow:before {color: black;}#sk-container-id-1 div.sk-toggleable__content {max-height: 0;max-width: 0;overflow: hidden;text-align: left;background-color: #f0f8ff;}#sk-container-id-1 div.sk-toggleable__content pre {margin: 0.2em;color: black;border-radius: 0.25em;background-color: #f0f8ff;}#sk-container-id-1 input.sk-toggleable__control:checked~div.sk-toggleable__content {max-height: 200px;max-width: 100%;overflow: auto;}#sk-container-id-1 input.sk-toggleable__control:checked~label.sk-toggleable__label-arrow:before {content: \"▾\";}#sk-container-id-1 div.sk-estimator input.sk-toggleable__control:checked~label.sk-toggleable__label {background-color: #d4ebff;}#sk-container-id-1 div.sk-label input.sk-toggleable__control:checked~label.sk-toggleable__label {background-color: #d4ebff;}#sk-container-id-1 input.sk-hidden--visually {border: 0;clip: rect(1px 1px 1px 1px);clip: rect(1px, 1px, 1px, 1px);height: 1px;margin: -1px;overflow: hidden;padding: 0;position: absolute;width: 1px;}#sk-container-id-1 div.sk-estimator {font-family: monospace;background-color: #f0f8ff;border: 1px dotted black;border-radius: 0.25em;box-sizing: border-box;margin-bottom: 0.5em;}#sk-container-id-1 div.sk-estimator:hover {background-color: #d4ebff;}#sk-container-id-1 div.sk-parallel-item::after {content: \"\";width: 100%;border-bottom: 1px solid gray;flex-grow: 1;}#sk-container-id-1 div.sk-label:hover label.sk-toggleable__label {background-color: #d4ebff;}#sk-container-id-1 div.sk-serial::before {content: \"\";position: absolute;border-left: 1px solid gray;box-sizing: border-box;top: 0;bottom: 0;left: 50%;z-index: 0;}#sk-container-id-1 div.sk-serial {display: flex;flex-direction: column;align-items: center;background-color: white;padding-right: 0.2em;padding-left: 0.2em;position: relative;}#sk-container-id-1 div.sk-item {position: relative;z-index: 1;}#sk-container-id-1 div.sk-parallel {display: flex;align-items: stretch;justify-content: center;background-color: white;position: relative;}#sk-container-id-1 div.sk-item::before, #sk-container-id-1 div.sk-parallel-item::before {content: \"\";position: absolute;border-left: 1px solid gray;box-sizing: border-box;top: 0;bottom: 0;left: 50%;z-index: -1;}#sk-container-id-1 div.sk-parallel-item {display: flex;flex-direction: column;z-index: 1;position: relative;background-color: white;}#sk-container-id-1 div.sk-parallel-item:first-child::after {align-self: flex-end;width: 50%;}#sk-container-id-1 div.sk-parallel-item:last-child::after {align-self: flex-start;width: 50%;}#sk-container-id-1 div.sk-parallel-item:only-child::after {width: 0;}#sk-container-id-1 div.sk-dashed-wrapped {border: 1px dashed gray;margin: 0 0.4em 0.5em 0.4em;box-sizing: border-box;padding-bottom: 0.4em;background-color: white;}#sk-container-id-1 div.sk-label label {font-family: monospace;font-weight: bold;display: inline-block;line-height: 1.2em;}#sk-container-id-1 div.sk-label-container {text-align: center;}#sk-container-id-1 div.sk-container {/* jupyter's `normalize.less` sets `[hidden] { display: none; }` but bootstrap.min.css set `[hidden] { display: none !important; }` so we also need the `!important` here to be able to override the default hidden behavior on the sphinx rendered scikit-learn.org. See: https://github.com/scikit-learn/scikit-learn/issues/21755 */display: inline-block !important;position: relative;}#sk-container-id-1 div.sk-text-repr-fallback {display: none;}</style><div id=\"sk-container-id-1\" class=\"sk-top-container\"><div class=\"sk-text-repr-fallback\"><pre>SVC()</pre><b>In a Jupyter environment, please rerun this cell to show the HTML representation or trust the notebook. <br />On GitHub, the HTML representation is unable to render, please try loading this page with nbviewer.org.</b></div><div class=\"sk-container\" hidden><div class=\"sk-item\"><div class=\"sk-estimator sk-toggleable\"><input class=\"sk-toggleable__control sk-hidden--visually\" id=\"sk-estimator-id-1\" type=\"checkbox\" checked><label for=\"sk-estimator-id-1\" class=\"sk-toggleable__label sk-toggleable__label-arrow\">SVC</label><div class=\"sk-toggleable__content\"><pre>SVC()</pre></div></div></div></div></div>"
      ],
      "text/plain": [
       "SVC()"
      ]
     },
     "execution_count": 20,
     "metadata": {},
     "output_type": "execute_result"
    }
   ],
   "source": [
    "SVM_Model.fit(Training_Features,Training_Labels)"
   ]
  },
  {
   "cell_type": "markdown",
   "id": "339d755e",
   "metadata": {},
   "source": [
    "## Evaluation"
   ]
  },
  {
   "cell_type": "code",
   "execution_count": 23,
   "id": "07a82953",
   "metadata": {
    "ExecuteTime": {
     "end_time": "2023-04-14T00:36:33.458303Z",
     "start_time": "2023-04-14T00:34:24.997332Z"
    }
   },
   "outputs": [],
   "source": [
    "Training_Predictions=SVM_Model.predict(Training_Features)"
   ]
  },
  {
   "cell_type": "code",
   "execution_count": 22,
   "id": "debe6a55",
   "metadata": {
    "ExecuteTime": {
     "end_time": "2023-04-14T00:34:23.732951Z",
     "start_time": "2023-04-14T00:34:07.454861Z"
    }
   },
   "outputs": [],
   "source": [
    "Testing_Predictions=SVM_Model.predict(Testing_Features)"
   ]
  },
  {
   "cell_type": "code",
   "execution_count": 27,
   "id": "277aff62",
   "metadata": {
    "ExecuteTime": {
     "end_time": "2023-04-14T00:37:26.129328Z",
     "start_time": "2023-04-14T00:37:24.976224Z"
    }
   },
   "outputs": [
    {
     "data": {
      "image/png": "[encoded data removed]",
      "text/plain": [
       "<Figure size 500x300 with 2 Axes>"
      ]
     },
     "metadata": {},
     "output_type": "display_data"
    },
    {
     "name": "stdout",
     "output_type": "stream",
     "text": [
      "              precision    recall  f1-score   support\n",
      "\n",
      "           0       1.00      1.00      1.00      1700\n",
      "           1       1.00      1.00      1.00      1700\n",
      "           2       0.99      0.99      0.99      1700\n",
      "           3       0.99      0.99      0.99      1700\n",
      "           4       1.00      1.00      1.00      1700\n",
      "           5       1.00      1.00      1.00      1700\n",
      "           6       1.00      1.00      1.00      1700\n",
      "           7       1.00      1.00      1.00      1700\n",
      "           8       1.00      1.00      1.00      1700\n",
      "           9       1.00      1.00      1.00      1700\n",
      "\n",
      "    accuracy                           1.00     17000\n",
      "   macro avg       1.00      1.00      1.00     17000\n",
      "weighted avg       1.00      1.00      1.00     17000\n",
      "\n"
     ]
    }
   ],
   "source": [
    "getClassificationEvaluation(Training_Labels,Training_Predictions,labels=class_list)"
   ]
  },
  {
   "cell_type": "code",
   "execution_count": 28,
   "id": "285801aa",
   "metadata": {
    "ExecuteTime": {
     "end_time": "2023-04-14T00:37:55.046366Z",
     "start_time": "2023-04-14T00:37:53.793883Z"
    }
   },
   "outputs": [
    {
     "data": {
      "image/png": "[encoded data removed]",
      "text/plain": [
       "<Figure size 500x300 with 2 Axes>"
      ]
     },
     "metadata": {},
     "output_type": "display_data"
    },
    {
     "name": "stdout",
     "output_type": "stream",
     "text": [
      "              precision    recall  f1-score   support\n",
      "\n",
      "           0       1.00      1.00      1.00       300\n",
      "           1       1.00      1.00      1.00       300\n",
      "           2       0.96      0.98      0.97       300\n",
      "           3       0.99      0.97      0.98       300\n",
      "           4       0.99      1.00      0.99       300\n",
      "           5       0.99      0.98      0.98       300\n",
      "           6       0.99      1.00      0.99       300\n",
      "           7       0.99      0.99      0.99       300\n",
      "           8       1.00      1.00      1.00       300\n",
      "           9       1.00      0.99      0.99       300\n",
      "\n",
      "    accuracy                           0.99      3000\n",
      "   macro avg       0.99      0.99      0.99      3000\n",
      "weighted avg       0.99      0.99      0.99      3000\n",
      "\n"
     ]
    }
   ],
   "source": [
    "getClassificationEvaluation(Testing_Labels,Testing_Predictions,labels=class_list)"
   ]
  },
  {
   "cell_type": "code",
   "execution_count": 32,
   "id": "c349a13d",
   "metadata": {
    "ExecuteTime": {
     "end_time": "2023-04-14T00:39:28.426093Z",
     "start_time": "2023-04-14T00:39:28.355004Z"
    }
   },
   "outputs": [
    {
     "data": {
      "text/plain": [
       "['./Models/SVM_Model.joblib']"
      ]
     },
     "execution_count": 32,
     "metadata": {},
     "output_type": "execute_result"
    }
   ],
   "source": [
    "joblib.dump(SVM_Model,\"./Models/SVM_Model.joblib\")"
   ]
  },
  {
   "cell_type": "markdown",
   "id": "52faa84f",
   "metadata": {},
   "source": [
    "# Model Saving"
   ]
  },
  {
   "cell_type": "code",
   "execution_count": 33,
   "id": "071e3817",
   "metadata": {
    "ExecuteTime": {
     "end_time": "2023-04-14T00:39:34.314912Z",
     "start_time": "2023-04-14T00:39:34.267897Z"
    }
   },
   "outputs": [
    {
     "data": {
      "text/plain": [
       "['../Model/SVM_Model.joblib']"
      ]
     },
     "execution_count": 33,
     "metadata": {},
     "output_type": "execute_result"
    }
   ],
   "source": [
    "joblib.dump(SVM_Model,\"../Model/SVM_Model.joblib\")"
   ]
  }
 ],
 "metadata": {
  "hide_input": false,
  "kernelspec": {
   "display_name": "Python 3 (ipykernel)",
   "language": "python",
   "name": "python3"
  },
  "language_info": {
   "codemirror_mode": {
    "name": "ipython",
    "version": 3
   },
   "file_extension": ".py",
   "mimetype": "text/x-python",
   "name": "python",
   "nbconvert_exporter": "python",
   "pygments_lexer": "ipython3",
   "version": "3.10.8"
  },
  "vscode": {
   "interpreter": {
    "hash": "26de051ba29f2982a8de78e945f0abaf191376122a1563185a90213a26c5da77"
   }
  }
 },
 "nbformat": 4,
 "nbformat_minor": 5
}
